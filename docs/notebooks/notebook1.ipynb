{
 "cells": [
  {
   "cell_type": "markdown",
   "id": "bc0df168",
   "metadata": {},
   "source": "# Tutorial"
  },
  {
   "cell_type": "code",
   "execution_count": null,
   "id": "914609db",
   "metadata": {},
   "outputs": [],
   "source": [
    "import myeditdistance as ed\n",
    "\n",
    "distance = ed.edit_distance(\"kitten\", \"sitting\")\n",
    "print(distance)"
   ]
  },
  {
   "metadata": {},
   "cell_type": "markdown",
   "source": "If you want to calculate the edit distance between two strings",
   "id": "e69cf0c34834fa84"
  }
 ],
 "metadata": {
  "kernelspec": {
   "display_name": "Python 3",
   "language": "python",
   "name": "python3"
  }
 },
 "nbformat": 4,
 "nbformat_minor": 5
}
